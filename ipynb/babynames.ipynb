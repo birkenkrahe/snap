{
  "cells": [
    {
      "cell_type": "markdown",
      "metadata": {},
      "source": [
        "## Practice yourself with `babynames`\n\n"
      ]
    },
    {
      "cell_type": "markdown",
      "metadata": {},
      "source": [
        "Transfer the code from the previous section to a new dataset.\n\nThis practice file (without answers) is available in Colab as:\n[tinyurl.com/babyNamesColab](https://tinyurl.com/babyNamesColab).\n\n1.  Download this file of baby names to your PC as `babynames.csv`:\n    [tinyurl.com/babyNamesRandomized](https://tinyurl.com/babyNamesRandomized)\n\n2.  Import the file from your `Downloads` directory to a data frame named\n    `baby`.\n\n"
      ]
    },
    {
      "cell_type": "code",
      "execution_count": 1,
      "metadata": {},
      "outputs": [],
      "source": [
        "import pandas as pd\nimport matplotlib.pyplot as plt\nbaby = pd.read_csv(\"../data/babynames.csv\")"
      ]
    },
    {
      "cell_type": "markdown",
      "metadata": {},
      "source": [
        "1.  Print the data frame to make sure the import worked - how many\n    names does this data set contain?\n\n"
      ]
    },
    {
      "cell_type": "code",
      "execution_count": 1,
      "metadata": {},
      "outputs": [
        {
          "name": "stdout",
          "output_type": "stream",
          "text": [
            "#+begin_example\n           year     name   percent   sex\n   0       1904    Selma  0.000790  girl\n   1       2002  Xzavier  0.000112   boy\n   2       2006    Kadyn  0.000094   boy\n   3       1965      Von  0.000049   boy\n   4       1974     Abel  0.000202   boy\n   ...      ...      ...       ...   ...\n   257995  1920  Queenie  0.000053  girl\n   257996  1982     Wade  0.000351   boy\n   257997  1988   Lesley  0.000250  girl\n   257998  1943     Vada  0.000061  girl\n   257999  1942     Eloy  0.000039   boy\n\n   [258000 rows x 4 columns]\n   #+end_example"
          ]
        }
      ],
      "source": [
        "<<baby>>\nprint(baby)"
      ]
    },
    {
      "cell_type": "markdown",
      "metadata": {},
      "source": [
        "1.  There is only one numeric column, the `percent` (of records that\n\n"
      ]
    },
    {
      "cell_type": "code",
      "execution_count": 1,
      "metadata": {},
      "outputs": [
        {
          "name": "stdout",
          "output_type": "stream",
          "text": [
            ": count    258000.000000\n   : mean          0.000894\n   : std           0.003016\n   : min           0.000026\n   : 25%           0.000081\n   : 50%           0.000164\n   : 75%           0.000507\n   : max           0.081541\n   : Name: percent, dtype: float64"
          ]
        }
      ],
      "source": [
        "<<baby>>\nprint(baby.iloc[:,2].describe())"
      ]
    },
    {
      "cell_type": "markdown",
      "metadata": {},
      "source": [
        "1.  Make a *horizontal* boxplot of `percent` values of the\n    data set (remember that you need to import the graphics library and\n    its plotting module):\n\n"
      ]
    },
    {
      "cell_type": "code",
      "execution_count": 1,
      "metadata": {},
      "outputs": [],
      "source": [
        "<<baby>>\nplt.boxplot(baby[:100]['percent'],vert=False)\nplt.show()"
      ]
    },
    {
      "cell_type": "markdown",
      "metadata": {},
      "source": [
        "1.  I had randomized the `babynames` data set and removed the groupings\n    of years and sex - from the result, you can see that, at least\n    among the first 100 names, there are a few outliers - names that\n    are massively more popular than the lot, while the rest of the\n    names are close together. To see better, one can transform the\n    values logarithmically using the `numpy` package:\n\n"
      ]
    },
    {
      "cell_type": "code",
      "execution_count": 1,
      "metadata": {},
      "outputs": [],
      "source": [
        "<<baby>>\nimport numpy as np\nbaby_log = baby\nbaby_log['percent'] = np.log10(baby['percent'])\nplt.boxplot(baby_log[:100]['percent'],vert=False)\nplt.show()"
      ]
    },
    {
      "cell_type": "markdown",
      "metadata": {},
      "source": [
        "1.  Make a *scatterplot* of the `percent` values: for the x-argument of the\n    `plt.scatter` function use the `index`, which is stored in `baby.index`:\n\n"
      ]
    },
    {
      "cell_type": "code",
      "execution_count": 1,
      "metadata": {},
      "outputs": [],
      "source": [
        "<<baby>>\nplt.scatter(baby.index,baby.percent)\nplt.show()"
      ]
    },
    {
      "cell_type": "markdown",
      "metadata": {},
      "source": [
        "1.  It's very hard to see any trends with so many data points! Plot\n    again but this time limit the number of data points to 100:\n\n"
      ]
    },
    {
      "cell_type": "code",
      "execution_count": 1,
      "metadata": {},
      "outputs": [],
      "source": [
        "<<baby>>\nplt.scatter(baby.index[:100],baby.percent[:100])\nplt.show()"
      ]
    },
    {
      "cell_type": "markdown",
      "metadata": {},
      "source": [
        "1.  To see this better, you can sort the values in descending order\n    using `sort_values`:\n\n"
      ]
    },
    {
      "cell_type": "code",
      "execution_count": 1,
      "metadata": {},
      "outputs": [],
      "source": [
        "<<baby>>\nbaby = baby.sort_values(by='percent',ascending=False).reset_index(drop=True)\nbaby_top100 = baby[:100]\nplt.scatter(baby_top100.index,baby_top100.percent)\nplt.show()"
      ]
    }
  ],
  "metadata": [
    [
      "org"
    ],
    null,
    null
  ],
  "nbformat": 4,
  "nbformat_minor": 0
}