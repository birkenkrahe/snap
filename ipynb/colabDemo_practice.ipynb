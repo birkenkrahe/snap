{
  "cells": [
    {
      "cell_type": "markdown",
      "metadata": {},
      "source": [
        "## Practice yourself with `babynames`\n\n"
      ]
    },
    {
      "cell_type": "markdown",
      "metadata": {},
      "source": [
        "Transfer the code from the previous section to a new dataset.\n\nThis practice file (without answers) is available in Colab as:\ntinyurl.com/babyNamesColab. The answers are in\ntinyurl.com/babyNamesColabAnswers.\n\n1.  Download this file of baby names to your PC as `babynames.csv`:\n    [tinyurl.com/babyNamesPractice](https://tinyurl.com/babyNamesPractice)\n\n2.  Import the file from your `Downloads` directory to a data frame named\n    `baby`.\n\n"
      ]
    },
    {
      "cell_type": "code",
      "execution_count": 1,
      "metadata": {},
      "outputs": [],
      "source": [
        "import pandas as pd\nimport matplotlib.pyplot as plt\nbaby = pd.read_csv(\"../data/babynames.csv\")"
      ]
    },
    {
      "cell_type": "markdown",
      "metadata": {},
      "source": [
        "1.  Print the data frame to make sure the import worked - how many\n    names does this data set contain?\n\n"
      ]
    },
    {
      "cell_type": "code",
      "execution_count": 1,
      "metadata": {},
      "outputs": [
        {
          "name": "stdout",
          "output_type": "stream",
          "text": [
            "#+begin_example\n           year      name   percent   sex\n   0       1880      John  0.081541   boy\n   1       1880   William  0.080511   boy\n   2       1880     James  0.050057   boy\n   3       1880   Charles  0.045167   boy\n   4       1880    George  0.043292   boy\n   ...      ...       ...       ...   ...\n   257995  2008  Carleigh  0.000128  girl\n   257996  2008     Iyana  0.000128  girl\n   257997  2008    Kenley  0.000127  girl\n   257998  2008    Sloane  0.000127  girl\n   257999  2008   Elianna  0.000127  girl\n\n   [258000 rows x 4 columns]\n   #+end_example"
          ]
        }
      ],
      "source": [
        "<<baby>>\nprint(baby)"
      ]
    },
    {
      "cell_type": "markdown",
      "metadata": {},
      "source": [
        "1.  There is only one numeric column, the `percent` (of records that\n\n"
      ]
    },
    {
      "cell_type": "code",
      "execution_count": 1,
      "metadata": {},
      "outputs": [
        {
          "name": "stdout",
          "output_type": "stream",
          "text": [
            ": count    258000.000000\n   : mean          0.000894\n   : std           0.003016\n   : min           0.000026\n   : 25%           0.000081\n   : 50%           0.000164\n   : 75%           0.000507\n   : max           0.081541\n   : Name: percent, dtype: float64"
          ]
        }
      ],
      "source": [
        "<<baby>>\nprint(baby.iloc[:,2].describe())"
      ]
    },
    {
      "cell_type": "markdown",
      "metadata": {},
      "source": [
        "1.  Make a *horizontal* boxplot of the first 10 `percent` values of the\n    data set (remember that you need to import the graphics library and\n    its plotting module):\n\n"
      ]
    },
    {
      "cell_type": "code",
      "execution_count": 1,
      "metadata": {},
      "outputs": [],
      "source": [
        "<<baby>>\nplt.boxplot(baby[:10]['percent'],vert=False)\nplt.show()"
      ]
    },
    {
      "cell_type": "markdown",
      "metadata": {},
      "source": [
        "1.  Make a *scatterplot* of the `percent` values: for the x-argument of the\n    `plt.scatter` function use the `index`, which is stored in `baby.index`:\n\n"
      ]
    },
    {
      "cell_type": "code",
      "execution_count": 1,
      "metadata": {},
      "outputs": [],
      "source": [
        "<<baby>>\nplt.scatter(baby.index,baby.percent)\nplt.show()"
      ]
    },
    {
      "cell_type": "markdown",
      "metadata": {},
      "source": [
        "1.  It's very hard to see any trends with so many data points! Plot\n    again but this time limit the number of data points to 100:\n\n"
      ]
    },
    {
      "cell_type": "code",
      "execution_count": 1,
      "metadata": {},
      "outputs": [],
      "source": [
        "<<baby>>\nplt.scatter(baby.index[:100],baby.percent[:100])\nplt.show()"
      ]
    },
    {
      "cell_type": "markdown",
      "metadata": {},
      "source": [
        "1.  You can clearly see how a few names are very popular while a bunch\n    of other names are not. To really test trends, you'd have to\n    randomize your sample though (a look at the original dataset shows\n    that you only picked the boy names in the year 1880.\n\n2.  Print the functions that you used with the corresponding magic\n    command.\n    \n        %whos\n\n3.  Lastly, save a Python (`.py`) version of your code to your PC.\n\n"
      ]
    }
  ],
  "metadata": [
    [
      "org"
    ],
    null,
    null
  ],
  "nbformat": 4,
  "nbformat_minor": 0
}