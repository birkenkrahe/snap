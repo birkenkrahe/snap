{
  "cells": [
    {
      "cell_type": "markdown",
      "metadata": {},
      "source": [
        "## Short program: Guess the Number\n\n"
      ]
    },
    {
      "cell_type": "markdown",
      "metadata": {},
      "source": [
        "-   This example also demonstrates an exemplary solution path:\n    1.  Understand what's asked from you (requirements)\n    2.  Understand what the program needs from you (input)\n    3.  Understand what's the result supposed to look like (output)\n    4.  Write the process as pseudocode (without syntax)\n    5.  Create a process diagram (with commands)\n    6.  Code the Python program (source code)\n    7.  Run, test and debug the source code\n    8.  Fix pseudocode/diagram accordingly.\n    9.  Identify extensions.\n    10. Implement extensions (repeat steps 4-8).\n\n-   Write a 'Guess the number' game. When you run the program, the\n    output should look like this:\n    \n    ![img](../img/py_guessTheNumber_output.png \"Desired output of guessTheNumber.py\")\n\n-   The program should generate a random number between 1 and 20.\n\n-   Enter the source code into the IDLE file editor, or into Colab, and\n    save as `guessTheNumber.py`.\n\n-   Solution path/pseudocode (code highlighted)\n    1.  `import` `random` module.\n    2.  Generate a `random` number.\n    3.  Store number in `num`.\n    4.  Set `attempt` (number of guesses) to 0.\n    5.  Get `input` number `guess` from user.\n    6.  Increase `attempt` by 1\n    7.  Check if `guess` is the same as `num`\n    8.  Print success message and `attempt` value\n    9.  End program\n    10. Otherwise, check if `guess` is smaller than `num`\n    11. Print information\n    12. Otherwise, check if `guess` is larger than `num`\n    13. Print information\n    14. Return to step 3\n\n-   BPMN Process diagram:\n    \n    ![img](../img/py_guessTheNumber.png \"Flow diagram for guessTheNumber.py\")\n\n-   Solution Python code (16 + 5 lines):\n\n"
      ]
    },
    {
      "cell_type": "code",
      "execution_count": 1,
      "metadata": {},
      "outputs": [],
      "source": [
        "# import random module\nimport random\n# pick random number between 1 and 20\nnum = random.randint(1,20)\n# set attempts counter to 0\nattempt = 0\n# ask user for number guess\nprint('Enter number between 1 and 20: ')\n# infinite loop until number is guessed\nwhile True:\n    guess = int(input('Take a guess: '))\n    attempt = attempt + 1\n    if guess < num:\n        print('Your guess is too low.')\n        continue\n    elif guess > num:\n        print('Your guess is too high.')\n        continue\n    else:\n        print('Good job! You guessed my number in ' + str(attempt) + ' guesses!')\n        break"
      ]
    },
    {
      "cell_type": "markdown",
      "metadata": {},
      "source": [
        "-   Program extensions:\n    1.  Make program safe against no/wrong input (exception handling):\n        currently, it terminates with an error if a floating-point number\n        or a letter or nothing is entered by mistake.\n    2.  Exchange the infinite `while` loop by a `for` loop with a set number\n        of allowed guesses (most games don't go on forever).\n\n-   What did you learn?\n    1.  For best productivity and learning, follow a solution path -\n        don't just \"code away\"\n    2.  For best learning effects find different solutions to the same\n        problem.\n    3.  For best results, handle exceptions. Balance exception handling\n        with usability and performance.\n    4.  There is always more than one solution, usually many. There is no\n        best solution to a programming problem that satisfies all\n        requirements, even the unspoken ones, equally well.\n\n"
      ]
    }
  ],
  "metadata": [
    [
      "org"
    ],
    null,
    null
  ],
  "nbformat": 4,
  "nbformat_minor": 0
}