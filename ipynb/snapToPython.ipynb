{
  "cells": [
    {
      "cell_type": "markdown",
      "metadata": {},
      "source": [
        "## The 'hello world' program\n\n"
      ]
    },
    {
      "cell_type": "markdown",
      "metadata": {},
      "source": [
        "1.  Open a `New notebook` in the `File` menu at the top.\n\n2.  Name the notebook `SnapToPython.ipynb`.\n\n3.  Enter `CTRL + ALT + T` or select `+Text` for a text block.\n\n4.  Create a headline: `# My first Python program`.\n\n5.  Open this Snap! file, `edit` the code and extract a picture of the\n    code block: [tinyurl.com/SnapToPython](https://tinyurl.com/SnapToPython) to your PC.\n\n6.  Create another text block and open the image symbol to `insert\n       image`, then insert the PNG image that you downloaded.\n\n7.  Now leave the editor by clicking on the crossed out pen symbol at\n    the top of the text block. You should see the image embedded in\n    your notebook.\n\n8.  Create a new code block with `CTRL + ALT + I` (you can see all the\n    keyboard short cuts in the sidebar at the bottom of the screen).\n\n9.  Enter the 'hello world' program and run it with `SHIFT + ENTER`:\n\n"
      ]
    },
    {
      "cell_type": "code",
      "execution_count": 1,
      "metadata": {},
      "outputs": [],
      "source": [
        "print('hello world')"
      ]
    },
    {
      "cell_type": "markdown",
      "metadata": {},
      "source": [
        "1.  In the next code block (that should already have appeared), enter\n    another `print` statement and run it also with `SHIFT + ENTER`:\n\n"
      ]
    },
    {
      "cell_type": "code",
      "execution_count": 1,
      "metadata": {},
      "outputs": [],
      "source": [
        "print(\"What's your name?\")"
      ]
    },
    {
      "cell_type": "markdown",
      "metadata": {},
      "source": [
        "1.  Notice the use of single quotes in the first, and double quotes in\n    the second code block: both are permitted but if you want to use\n    single quotes in a *string literal* (the thing that Python should\n    print), then you need to use double quotes.\n\n2.  So far we've only seen output. To get input, like for the `ask`\n    function in Snap!, we use the `input` function in Python:\n\n"
      ]
    },
    {
      "cell_type": "code",
      "execution_count": 1,
      "metadata": {},
      "outputs": [],
      "source": [
        "input()"
      ]
    },
    {
      "cell_type": "markdown",
      "metadata": {},
      "source": [
        "1.  When you run this command, you're prompted for an input. If you\n    enter nothing (or rather: the empty string `''`), you get\n    nothing. If you enter something, it's played back to you.\n\n2.  This is like the `ask` function in Snap!: the input is not stored\n    anywhere. Now we store it in a variable `name` - run this command:\n\n"
      ]
    },
    {
      "cell_type": "code",
      "execution_count": 1,
      "metadata": {},
      "outputs": [],
      "source": [
        "name = input()"
      ]
    },
    {
      "cell_type": "markdown",
      "metadata": {},
      "source": [
        "1.  And in the next code block, print the content of `name`:\n\n"
      ]
    },
    {
      "cell_type": "code",
      "execution_count": 1,
      "metadata": {},
      "outputs": [],
      "source": [
        "name"
      ]
    },
    {
      "cell_type": "markdown",
      "metadata": {},
      "source": [
        "1.  In the next line, we use the `len` function to count the number of\n    characters of the string stored in `name`:\n\n"
      ]
    },
    {
      "cell_type": "code",
      "execution_count": 1,
      "metadata": {},
      "outputs": [],
      "source": [
        "print('Your name has',len(name),'characters.')"
      ]
    },
    {
      "cell_type": "markdown",
      "metadata": {},
      "source": [
        "1.  The result of running `len` with the argument `name` is simply\n    sandwiched between two other strings.\n\n2.  Next, we ask for the user's age. This time, we combine `print` and\n    `input` by putting the `prompt` inside the parentheses, and store the\n    received value in the variable `age`.\n\n"
      ]
    },
    {
      "cell_type": "code",
      "execution_count": 1,
      "metadata": {},
      "outputs": [],
      "source": [
        "age = input(\"What's your age? \")"
      ]
    },
    {
      "cell_type": "markdown",
      "metadata": {},
      "source": [
        "1.  To get short information, called a *docstring* on any function, you\n    can type the name followed by a question mark. For more detailed\n    help, use `help(input)`:\n\n"
      ]
    },
    {
      "cell_type": "code",
      "execution_count": 1,
      "metadata": {},
      "outputs": [],
      "source": [
        "input?"
      ]
    },
    {
      "cell_type": "markdown",
      "metadata": {},
      "source": [
        "1.  Like Snap!, Python has data types (string, number, Boolean), and\n    like in Snap! you do not have to declare them but they are\n    dynamically assigned when they are created by you.\n\n2.  The next line checks the data type of `age`, which we entered as a\n    number, so it's reasonable to assume that it's an integer:\n\n"
      ]
    },
    {
      "cell_type": "code",
      "execution_count": 1,
      "metadata": {},
      "outputs": [],
      "source": [
        "type(age)"
      ]
    },
    {
      "cell_type": "markdown",
      "metadata": {},
      "source": [
        "1.  Lo and behold, it's not `int` but `str` for string! This implies that\n    we cannot compute using `age` without converting it. Notice that\n    Snap! did not ask us to do that.\n\n2.  The last line contains such a computation - there are several\n    things at work here:\n    -   The string literal (between \"\") is printed as an *f-string*\n        (formatted).\n    -   The printed value is enclosed in {}\n    -   The value is computed using `int` to convert `age` to an integer\n    -   The resulting integer is added to `1`\n    -   The integer is converted back to a string with `str` so that it\n        can be printed:\n\n"
      ]
    },
    {
      "cell_type": "code",
      "execution_count": 1,
      "metadata": {},
      "outputs": [],
      "source": [
        "print(f\"You're going to be {str(int(age)+1)} years old.\")"
      ]
    },
    {
      "cell_type": "markdown",
      "metadata": {},
      "source": [
        "1.  Here are two alternative printing ways:\n\n"
      ]
    },
    {
      "cell_type": "code",
      "execution_count": 1,
      "metadata": {},
      "outputs": [],
      "source": [
        "print(\"You're going to be\", str(int(age)+1), \"years old.\")\nprint(\"You're going to be \" + str(int(age)+1) + \" years old.\")"
      ]
    },
    {
      "cell_type": "markdown",
      "metadata": {},
      "source": [
        "1.  To save the code blocks as one Python program `hello.py`, select\n    `File` > `Download` > `Download as .py` in the top menu.\n\n2.  Open the terminal and run the Python file on the command line:\n\n"
      ]
    }
  ],
  "metadata": {
    "org": null,
    "kernelspec": {
      "display_name": "Python 3",
      "language": "python",
      "name": "python3"
    },
    "language_info": {
      "codemirror_mode": {
        "name": "ipython",
        "version": 3
      },
      "file_extension": ".py",
      "mimetype": "text/x-python",
      "name": "python",
      "nbconvert_exporter": "python",
      "pygments_lexer": "ipython3",
      "version": "3.5.2"
    }
  },
  "nbformat": 4,
  "nbformat_minor": 0
}