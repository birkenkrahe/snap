{
  "cells": [
    {
      "cell_type": "markdown",
      "metadata": {},
      "source": [
        "## Getting started in Colab\n\n"
      ]
    },
    {
      "cell_type": "markdown",
      "metadata": {},
      "source": [
        "1.  Log into your (Lyon) Google account\n\n2.  Open [https://colab.research.google.com](https://colab.research.google.com)\n\n3.  Select `New notebook`.\n\n4.  At the top, change `Untitled` in the title to `ColabDemo`.\n\n5.  You're on a free (virtual) Linux server (see sidebar).\n\n6.  Enter `CTRL + ALT + T` or select `+Text` for a text block.\n\n7.  This is *Markup*, a minimal layout language like HTML.\n\n8.  Create a headline: `# Import CSV data as DataFrame`\n\n9.  Enter `CTRL + ALT + I` or select `+Code` for a code block.\n\n10. Text and code blocks can be moved up and down.\n\n11. The code block is an *IPython* shell that sits on top of the Python\n    shell, which is a terminal for the Python interpreter, which\n    runs your commands right away.\n\n12. IPython allows you to practice interactive computing. For example,\n    you can import CSV files, print them as a table and get summary\n    stats information:\n\n"
      ]
    },
    {
      "cell_type": "code",
      "execution_count": 1,
      "metadata": {},
      "outputs": [],
      "source": [
        "import pandas as pd\ndf = pd.read_csv(\"./sample_data/california_housing_test.csv\")"
      ]
    },
    {
      "cell_type": "markdown",
      "metadata": {},
      "source": [
        "1.  In Colab, run a code block with `CTRL + ENTER` or with `SHIFT + ENTER`\n    (creates a new code block below it). This is just like in Snap!\n    which is also an *interpreted* language (written in JavaScript and\n    compiled to an HTML5 executable).\n\n2.  You can print the data frame as a table by typing its name:\n\n"
      ]
    },
    {
      "cell_type": "code",
      "execution_count": 1,
      "metadata": {},
      "outputs": [],
      "source": [
        "df"
      ]
    },
    {
      "cell_type": "markdown",
      "metadata": {},
      "source": [
        "1.  You can see that there are 3000 rows or records and 9 columns or\n    features describing the CA housing market. You can quickly get\n    statistical information on this dataset:\n\n"
      ]
    },
    {
      "cell_type": "code",
      "execution_count": 1,
      "metadata": {},
      "outputs": [],
      "source": [
        "df.describe()"
      ]
    },
    {
      "cell_type": "markdown",
      "metadata": {},
      "source": [
        "1.  You recognize the total count (number of entries or records or\n    rows), the average, the minimum and maximum. Without more\n    information about these data (units) this means little. It does\n    however, not make sense to average over longitude and latitude.\n\n2.  This command limits the function to the columns 3 through 9\n    (excluding columns 1-2): the notation between the [ ] uses the\n    'slicing' operator to subset the rows and columns:\n\n"
      ]
    },
    {
      "cell_type": "code",
      "execution_count": 1,
      "metadata": {},
      "outputs": [],
      "source": [
        "df.iloc[:,2:9].describe()"
      ]
    },
    {
      "cell_type": "markdown",
      "metadata": {},
      "source": [
        "1.  In fact there are three operators and two functions at work here:\n    1.  The dot operator to extract methods/functions\n    2.  The [] operator to index the data frame\n    3.  The , operator to separate rows and columns\n    4.  The : operator to slice off rows and columns\n    5.  The `iloc[]` method to identify a data frame value based on index\n    6.  The `describe()` method to compute a stats summary\n\n2.  In IPython, you can quickly make plots using the `matplotlib`\n    library, which contains a module `pyplot`, which in turn contains\n    plotting functions like `boxplot` or `scatter`:\n\n"
      ]
    },
    {
      "cell_type": "code",
      "execution_count": 1,
      "metadata": {},
      "outputs": [],
      "source": [
        "import matplotlib.pyplot as plt\nplt.boxplot(df[:100]['median_house_value'],vert=False)\nplt.show()"
      ]
    },
    {
      "cell_type": "markdown",
      "metadata": {},
      "source": [
        "1.  In the last code block, we imported the plotting library\n    `matplotlib` and the `pyplot` module in it, and told Python to plot a\n    boxplot for one variable/column only, the median house value, and\n    to restrict the plot to the first 100 records (i.e. locations).\n\n2.  The `plt.show()` command indicates that there's a difference, to\n    Python, between making the plot and displaying it, or sending it\n    to the standard output.\n\n3.  You can see in the box plot that there are five 'outliers', houses\n    that are much more valuable than the rest, in this data, and that\n    the middle magnitude (or median) is at around 180,000 USD\n    (i.e. half the houses (except the outliers) are less, the other\n    half more expensive.\n\n4.  Another useful plot is the scatterplot - that's what we did in the\n    R programming language for the `mtcars` dataset and the variables\n    `mpg` vs. `wt` (miles per gallon vs. car weight). Now, we plot the\n    median income as a function of the house value - and we expect\n    them to be *positively correlated*, that is to increase together:\n\n"
      ]
    },
    {
      "cell_type": "code",
      "execution_count": 1,
      "metadata": {},
      "outputs": [],
      "source": [
        "plt.scatter(df.median_house_value,df.median_income)\nplt.show()"
      ]
    },
    {
      "cell_type": "markdown",
      "metadata": {},
      "source": [
        "1.  It's hard to see anything in this plot (there are 3000 values\n    here, one for each record) so let's reduce the number of\n    (x,y)-values to 100 each:\n\n"
      ]
    },
    {
      "cell_type": "code",
      "execution_count": 1,
      "metadata": {},
      "outputs": [],
      "source": [
        "plt.scatter(df.median_house_value[:100],df.median_income[:100])\nplt.show()"
      ]
    },
    {
      "cell_type": "markdown",
      "metadata": {},
      "source": [
        "1.  We can customize this plot minimally by adding labels and a title:\n\n"
      ]
    },
    {
      "cell_type": "code",
      "execution_count": 1,
      "metadata": {},
      "outputs": [],
      "source": [
        "plt.scatter(df.median_house_value[:100],df.median_income[:100])\nplt.xlabel('Median Income')\nplt.ylabel('Median House Value')\nplt.title('Scatterplot: Median Income vs. Median House Value')"
      ]
    },
    {
      "cell_type": "markdown",
      "metadata": {},
      "source": [
        "1.  IPython/Colab has a lot more power, e.g. there are many 'magic\n    commands' with additional information. For example, enter `%whos`\n    now for a list of all the user-defined variables and functions\n    that you created in this notebook session.\n\nThis concludes the demonstration of Colab's IPython capabilities.\n\n"
      ]
    }
  ],
  "metadata": [
    [
      "org"
    ],
    null,
    null
  ],
  "nbformat": 4,
  "nbformat_minor": 0
}